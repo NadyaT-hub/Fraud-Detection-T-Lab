{
 "cells": [
  {
   "cell_type": "markdown",
   "id": "dba68388",
   "metadata": {},
   "source": [
    "# EDA\n",
    "\n",
    "Create your own EDA below/ Create as many code-blocks as you need.\n",
    "\n",
    "Once you've completed your EDA, complete the section titled **Reflections** where you will answer questions about your EDA.\n",
    "\n",
    "**Note**: Since this dataset is large, visualizations might load slower. You may want to consider using the `sample()` method if this dataset is too large for your computer to process in a reasonable amount of time."
   ]
  },
  {
   "cell_type": "code",
   "execution_count": 1,
   "id": "0a42d7d8",
   "metadata": {},
   "outputs": [],
   "source": [
    "import pandas as pd \n",
    "import numpy as np\n",
    "\n",
    "import seaborn as sns\n",
    "import matplotlib.pyplot as plt"
   ]
  },
  {
   "cell_type": "code",
   "execution_count": 12,
   "id": "95ac8ec2",
   "metadata": {},
   "outputs": [
    {
     "data": {
      "text/html": [
       "<div>\n",
       "<style scoped>\n",
       "    .dataframe tbody tr th:only-of-type {\n",
       "        vertical-align: middle;\n",
       "    }\n",
       "\n",
       "    .dataframe tbody tr th {\n",
       "        vertical-align: top;\n",
       "    }\n",
       "\n",
       "    .dataframe thead th {\n",
       "        text-align: right;\n",
       "    }\n",
       "</style>\n",
       "<table border=\"1\" class=\"dataframe\">\n",
       "  <thead>\n",
       "    <tr style=\"text-align: right;\">\n",
       "      <th></th>\n",
       "      <th>type</th>\n",
       "      <th>amount</th>\n",
       "      <th>nameOrig</th>\n",
       "      <th>oldbalanceOrg</th>\n",
       "      <th>newbalanceOrig</th>\n",
       "      <th>nameDest</th>\n",
       "      <th>oldbalanceDest</th>\n",
       "      <th>newbalanceDest</th>\n",
       "      <th>isFraud</th>\n",
       "      <th>isFlaggedFraud</th>\n",
       "    </tr>\n",
       "  </thead>\n",
       "  <tbody>\n",
       "    <tr>\n",
       "      <th>0</th>\n",
       "      <td>PAYMENT</td>\n",
       "      <td>983.09</td>\n",
       "      <td>C1454812978</td>\n",
       "      <td>36730.24</td>\n",
       "      <td>35747.15</td>\n",
       "      <td>M1491308340</td>\n",
       "      <td>0.00</td>\n",
       "      <td>0.00</td>\n",
       "      <td>0</td>\n",
       "      <td>0</td>\n",
       "    </tr>\n",
       "    <tr>\n",
       "      <th>1</th>\n",
       "      <td>PAYMENT</td>\n",
       "      <td>55215.25</td>\n",
       "      <td>C1031766358</td>\n",
       "      <td>99414.00</td>\n",
       "      <td>44198.75</td>\n",
       "      <td>M2102868029</td>\n",
       "      <td>0.00</td>\n",
       "      <td>0.00</td>\n",
       "      <td>0</td>\n",
       "      <td>0</td>\n",
       "    </tr>\n",
       "    <tr>\n",
       "      <th>2</th>\n",
       "      <td>CASH_IN</td>\n",
       "      <td>220986.01</td>\n",
       "      <td>C1451868666</td>\n",
       "      <td>7773074.97</td>\n",
       "      <td>7994060.98</td>\n",
       "      <td>C1339195526</td>\n",
       "      <td>924031.48</td>\n",
       "      <td>703045.48</td>\n",
       "      <td>0</td>\n",
       "      <td>0</td>\n",
       "    </tr>\n",
       "    <tr>\n",
       "      <th>3</th>\n",
       "      <td>TRANSFER</td>\n",
       "      <td>2357394.75</td>\n",
       "      <td>C458368123</td>\n",
       "      <td>0.00</td>\n",
       "      <td>0.00</td>\n",
       "      <td>C620979654</td>\n",
       "      <td>4202580.45</td>\n",
       "      <td>6559975.19</td>\n",
       "      <td>0</td>\n",
       "      <td>0</td>\n",
       "    </tr>\n",
       "    <tr>\n",
       "      <th>4</th>\n",
       "      <td>CASH_OUT</td>\n",
       "      <td>67990.14</td>\n",
       "      <td>C1098978063</td>\n",
       "      <td>0.00</td>\n",
       "      <td>0.00</td>\n",
       "      <td>C142246322</td>\n",
       "      <td>625317.04</td>\n",
       "      <td>693307.19</td>\n",
       "      <td>0</td>\n",
       "      <td>0</td>\n",
       "    </tr>\n",
       "  </tbody>\n",
       "</table>\n",
       "</div>"
      ],
      "text/plain": [
       "       type      amount     nameOrig  oldbalanceOrg  newbalanceOrig  \\\n",
       "0   PAYMENT      983.09  C1454812978       36730.24        35747.15   \n",
       "1   PAYMENT    55215.25  C1031766358       99414.00        44198.75   \n",
       "2   CASH_IN   220986.01  C1451868666     7773074.97      7994060.98   \n",
       "3  TRANSFER  2357394.75   C458368123           0.00            0.00   \n",
       "4  CASH_OUT    67990.14  C1098978063           0.00            0.00   \n",
       "\n",
       "      nameDest  oldbalanceDest  newbalanceDest  isFraud  isFlaggedFraud  \n",
       "0  M1491308340            0.00            0.00        0               0  \n",
       "1  M2102868029            0.00            0.00        0               0  \n",
       "2  C1339195526       924031.48       703045.48        0               0  \n",
       "3   C620979654      4202580.45      6559975.19        0               0  \n",
       "4   C142246322       625317.04       693307.19        0               0  "
      ]
     },
     "execution_count": 12,
     "metadata": {},
     "output_type": "execute_result"
    }
   ],
   "source": [
    "# import data \n",
    "transactions = pd.read_csv(\"../data/bank_transactions.csv\")\n",
    "transactions.head()"
   ]
  },
  {
   "cell_type": "code",
   "execution_count": 13,
   "id": "a6ebe601",
   "metadata": {},
   "outputs": [
    {
     "data": {
      "text/plain": [
       "(1000000, 10)"
      ]
     },
     "execution_count": 13,
     "metadata": {},
     "output_type": "execute_result"
    }
   ],
   "source": [
    "# TODO: view the shape of your data\n",
    "transactions.shape"
   ]
  },
  {
   "cell_type": "code",
   "execution_count": 14,
   "id": "4884101d",
   "metadata": {},
   "outputs": [
    {
     "data": {
      "text/plain": [
       "type              0\n",
       "amount            0\n",
       "nameOrig          0\n",
       "oldbalanceOrg     0\n",
       "newbalanceOrig    0\n",
       "nameDest          0\n",
       "oldbalanceDest    0\n",
       "newbalanceDest    0\n",
       "isFraud           0\n",
       "isFlaggedFraud    0\n",
       "dtype: int64"
      ]
     },
     "execution_count": 14,
     "metadata": {},
     "output_type": "execute_result"
    }
   ],
   "source": [
    "# TODO: Begin your EDA\n",
    "transactions.isnull().sum() # checking empty / missing cells"
   ]
  },
  {
   "cell_type": "code",
   "execution_count": 15,
   "id": "15ff03ae",
   "metadata": {},
   "outputs": [
    {
     "data": {
      "text/plain": [
       "<bound method DataFrame.info of             type      amount     nameOrig  oldbalanceOrg  newbalanceOrig  \\\n",
       "0        PAYMENT      983.09  C1454812978       36730.24        35747.15   \n",
       "1        PAYMENT    55215.25  C1031766358       99414.00        44198.75   \n",
       "2        CASH_IN   220986.01  C1451868666     7773074.97      7994060.98   \n",
       "3       TRANSFER  2357394.75   C458368123           0.00            0.00   \n",
       "4       CASH_OUT    67990.14  C1098978063           0.00            0.00   \n",
       "...          ...         ...          ...            ...             ...   \n",
       "999995   PAYMENT    13606.07   C768838592      114122.11       100516.04   \n",
       "999996   PAYMENT     9139.61  C1912748675           0.00            0.00   \n",
       "999997  CASH_OUT   153650.41  C1494179549       50677.00            0.00   \n",
       "999998  CASH_OUT   163810.52   C116856975           0.00            0.00   \n",
       "999999  CASH_OUT    51379.41  C2103541974       45503.43            0.00   \n",
       "\n",
       "           nameDest  oldbalanceDest  newbalanceDest  isFraud  isFlaggedFraud  \n",
       "0       M1491308340            0.00            0.00        0               0  \n",
       "1       M2102868029            0.00            0.00        0               0  \n",
       "2       C1339195526       924031.48       703045.48        0               0  \n",
       "3        C620979654      4202580.45      6559975.19        0               0  \n",
       "4        C142246322       625317.04       693307.19        0               0  \n",
       "...             ...             ...             ...      ...             ...  \n",
       "999995  M1593119373            0.00            0.00        0               0  \n",
       "999996   M842968564            0.00            0.00        0               0  \n",
       "999997  C1560012502            0.00       380368.36        0               0  \n",
       "999998  C1348490647       357850.15       521660.67        0               0  \n",
       "999999   C924733771       202760.18       254139.59        0               0  \n",
       "\n",
       "[1000000 rows x 10 columns]>"
      ]
     },
     "execution_count": 15,
     "metadata": {},
     "output_type": "execute_result"
    }
   ],
   "source": [
    "transactions.info # detailed data"
   ]
  },
  {
   "cell_type": "code",
   "execution_count": 16,
   "id": "96e0f8c8",
   "metadata": {},
   "outputs": [
    {
     "data": {
      "text/plain": [
       "Index(['type', 'amount', 'nameOrig', 'oldbalanceOrg', 'newbalanceOrig',\n",
       "       'nameDest', 'oldbalanceDest', 'newbalanceDest', 'isFraud',\n",
       "       'isFlaggedFraud'],\n",
       "      dtype='object')"
      ]
     },
     "execution_count": 16,
     "metadata": {},
     "output_type": "execute_result"
    }
   ],
   "source": [
    "# identify the columns\n",
    "transactions.columns"
   ]
  },
  {
   "cell_type": "code",
   "execution_count": 17,
   "id": "5ce05e2c",
   "metadata": {},
   "outputs": [
    {
     "data": {
      "text/html": [
       "<div>\n",
       "<style scoped>\n",
       "    .dataframe tbody tr th:only-of-type {\n",
       "        vertical-align: middle;\n",
       "    }\n",
       "\n",
       "    .dataframe tbody tr th {\n",
       "        vertical-align: top;\n",
       "    }\n",
       "\n",
       "    .dataframe thead th {\n",
       "        text-align: right;\n",
       "    }\n",
       "</style>\n",
       "<table border=\"1\" class=\"dataframe\">\n",
       "  <thead>\n",
       "    <tr style=\"text-align: right;\">\n",
       "      <th></th>\n",
       "      <th>type</th>\n",
       "      <th>amount</th>\n",
       "      <th>oldbalanceOrg</th>\n",
       "      <th>newbalanceOrig</th>\n",
       "      <th>oldbalanceDest</th>\n",
       "      <th>newbalanceDest</th>\n",
       "      <th>isFraud</th>\n",
       "      <th>isFlaggedFraud</th>\n",
       "    </tr>\n",
       "  </thead>\n",
       "  <tbody>\n",
       "    <tr>\n",
       "      <th>0</th>\n",
       "      <td>PAYMENT</td>\n",
       "      <td>983.09</td>\n",
       "      <td>36730.24</td>\n",
       "      <td>35747.15</td>\n",
       "      <td>0.00</td>\n",
       "      <td>0.00</td>\n",
       "      <td>0</td>\n",
       "      <td>0</td>\n",
       "    </tr>\n",
       "    <tr>\n",
       "      <th>1</th>\n",
       "      <td>PAYMENT</td>\n",
       "      <td>55215.25</td>\n",
       "      <td>99414.00</td>\n",
       "      <td>44198.75</td>\n",
       "      <td>0.00</td>\n",
       "      <td>0.00</td>\n",
       "      <td>0</td>\n",
       "      <td>0</td>\n",
       "    </tr>\n",
       "    <tr>\n",
       "      <th>2</th>\n",
       "      <td>CASH_IN</td>\n",
       "      <td>220986.01</td>\n",
       "      <td>7773074.97</td>\n",
       "      <td>7994060.98</td>\n",
       "      <td>924031.48</td>\n",
       "      <td>703045.48</td>\n",
       "      <td>0</td>\n",
       "      <td>0</td>\n",
       "    </tr>\n",
       "    <tr>\n",
       "      <th>3</th>\n",
       "      <td>TRANSFER</td>\n",
       "      <td>2357394.75</td>\n",
       "      <td>0.00</td>\n",
       "      <td>0.00</td>\n",
       "      <td>4202580.45</td>\n",
       "      <td>6559975.19</td>\n",
       "      <td>0</td>\n",
       "      <td>0</td>\n",
       "    </tr>\n",
       "    <tr>\n",
       "      <th>4</th>\n",
       "      <td>CASH_OUT</td>\n",
       "      <td>67990.14</td>\n",
       "      <td>0.00</td>\n",
       "      <td>0.00</td>\n",
       "      <td>625317.04</td>\n",
       "      <td>693307.19</td>\n",
       "      <td>0</td>\n",
       "      <td>0</td>\n",
       "    </tr>\n",
       "    <tr>\n",
       "      <th>...</th>\n",
       "      <td>...</td>\n",
       "      <td>...</td>\n",
       "      <td>...</td>\n",
       "      <td>...</td>\n",
       "      <td>...</td>\n",
       "      <td>...</td>\n",
       "      <td>...</td>\n",
       "      <td>...</td>\n",
       "    </tr>\n",
       "    <tr>\n",
       "      <th>999995</th>\n",
       "      <td>PAYMENT</td>\n",
       "      <td>13606.07</td>\n",
       "      <td>114122.11</td>\n",
       "      <td>100516.04</td>\n",
       "      <td>0.00</td>\n",
       "      <td>0.00</td>\n",
       "      <td>0</td>\n",
       "      <td>0</td>\n",
       "    </tr>\n",
       "    <tr>\n",
       "      <th>999996</th>\n",
       "      <td>PAYMENT</td>\n",
       "      <td>9139.61</td>\n",
       "      <td>0.00</td>\n",
       "      <td>0.00</td>\n",
       "      <td>0.00</td>\n",
       "      <td>0.00</td>\n",
       "      <td>0</td>\n",
       "      <td>0</td>\n",
       "    </tr>\n",
       "    <tr>\n",
       "      <th>999997</th>\n",
       "      <td>CASH_OUT</td>\n",
       "      <td>153650.41</td>\n",
       "      <td>50677.00</td>\n",
       "      <td>0.00</td>\n",
       "      <td>0.00</td>\n",
       "      <td>380368.36</td>\n",
       "      <td>0</td>\n",
       "      <td>0</td>\n",
       "    </tr>\n",
       "    <tr>\n",
       "      <th>999998</th>\n",
       "      <td>CASH_OUT</td>\n",
       "      <td>163810.52</td>\n",
       "      <td>0.00</td>\n",
       "      <td>0.00</td>\n",
       "      <td>357850.15</td>\n",
       "      <td>521660.67</td>\n",
       "      <td>0</td>\n",
       "      <td>0</td>\n",
       "    </tr>\n",
       "    <tr>\n",
       "      <th>999999</th>\n",
       "      <td>CASH_OUT</td>\n",
       "      <td>51379.41</td>\n",
       "      <td>45503.43</td>\n",
       "      <td>0.00</td>\n",
       "      <td>202760.18</td>\n",
       "      <td>254139.59</td>\n",
       "      <td>0</td>\n",
       "      <td>0</td>\n",
       "    </tr>\n",
       "  </tbody>\n",
       "</table>\n",
       "<p>1000000 rows × 8 columns</p>\n",
       "</div>"
      ],
      "text/plain": [
       "            type      amount  oldbalanceOrg  newbalanceOrig  oldbalanceDest  \\\n",
       "0        PAYMENT      983.09       36730.24        35747.15            0.00   \n",
       "1        PAYMENT    55215.25       99414.00        44198.75            0.00   \n",
       "2        CASH_IN   220986.01     7773074.97      7994060.98       924031.48   \n",
       "3       TRANSFER  2357394.75           0.00            0.00      4202580.45   \n",
       "4       CASH_OUT    67990.14           0.00            0.00       625317.04   \n",
       "...          ...         ...            ...             ...             ...   \n",
       "999995   PAYMENT    13606.07      114122.11       100516.04            0.00   \n",
       "999996   PAYMENT     9139.61           0.00            0.00            0.00   \n",
       "999997  CASH_OUT   153650.41       50677.00            0.00            0.00   \n",
       "999998  CASH_OUT   163810.52           0.00            0.00       357850.15   \n",
       "999999  CASH_OUT    51379.41       45503.43            0.00       202760.18   \n",
       "\n",
       "        newbalanceDest  isFraud  isFlaggedFraud  \n",
       "0                 0.00        0               0  \n",
       "1                 0.00        0               0  \n",
       "2            703045.48        0               0  \n",
       "3           6559975.19        0               0  \n",
       "4            693307.19        0               0  \n",
       "...                ...      ...             ...  \n",
       "999995            0.00        0               0  \n",
       "999996            0.00        0               0  \n",
       "999997       380368.36        0               0  \n",
       "999998       521660.67        0               0  \n",
       "999999       254139.59        0               0  \n",
       "\n",
       "[1000000 rows x 8 columns]"
      ]
     },
     "execution_count": 17,
     "metadata": {},
     "output_type": "execute_result"
    }
   ],
   "source": [
    "# dropping columns we will not need\n",
    "transactions.drop(columns=['nameOrig', 'nameDest'], inplace=True)\n",
    "transactions"
   ]
  },
  {
   "cell_type": "code",
   "execution_count": 18,
   "id": "2fbd194c",
   "metadata": {},
   "outputs": [
    {
     "data": {
      "text/plain": [
       "type\n",
       "CASH_OUT    351360\n",
       "PAYMENT     338573\n",
       "CASH_IN     219955\n",
       "TRANSFER     83695\n",
       "DEBIT         6417\n",
       "Name: count, dtype: int64"
      ]
     },
     "execution_count": 18,
     "metadata": {},
     "output_type": "execute_result"
    }
   ],
   "source": [
    "transactions['type'].value_counts() # checking unique values"
   ]
  },
  {
   "cell_type": "code",
   "execution_count": 19,
   "id": "9eadb188",
   "metadata": {},
   "outputs": [
    {
     "data": {
      "image/png": "[encoded data removed]",
      "text/plain": [
       "<Figure size 640x480 with 1 Axes>"
      ]
     },
     "metadata": {},
     "output_type": "display_data"
    }
   ],
   "source": [
    "# visualization to see fraud vs non-fraud by count and type\n",
    "sns.countplot(x='type', hue='isFraud', data=transactions, palette='muted')\n",
    "plt.title('Fraud vs. Non-Fraud by Transaction Type')\n",
    "plt.xlabel('Transaction Type')\n",
    "plt.ylabel('Count')\n",
    "plt.legend(title='Is Fraud')\n",
    "plt.grid(axis='y')\n",
    "plt.show()"
   ]
  },
  {
   "cell_type": "code",
   "execution_count": 20,
   "id": "9c75857c",
   "metadata": {},
   "outputs": [
    {
     "data": {
      "image/png": "[encoded data removed]",
      "text/plain": [
       "<Figure size 640x480 with 1 Axes>"
      ]
     },
     "metadata": {},
     "output_type": "display_data"
    }
   ],
   "source": [
    "# how the transaction amounts differ between fraudulent and legitimate ones\n",
    "sns.boxplot(x='isFraud', y='amount', hue='isFraud', data=transactions, palette='muted')\n",
    "plt.title('Transaction Amount by Fraud Status')\n",
    "plt.xlabel('Is Fraud')\n",
    "plt.ylabel('Amount')\n",
    "plt.grid()\n",
    "plt.show()"
   ]
  },
  {
   "cell_type": "code",
   "execution_count": 22,
   "id": "aaf14d98",
   "metadata": {},
   "outputs": [
    {
     "data": {
      "text/plain": [
       "<Axes: >"
      ]
     },
     "execution_count": 22,
     "metadata": {},
     "output_type": "execute_result"
    },
    {
     "data": {
      "image/png": "[encoded data removed]",
      "text/plain": [
       "<Figure size 640x480 with 2 Axes>"
      ]
     },
     "metadata": {},
     "output_type": "display_data"
    }
   ],
   "source": [
    "# correllation between all value\n",
    "sns.heatmap(transactions.corr(numeric_only=True))"
   ]
  },
  {
   "cell_type": "markdown",
   "id": "5a6d360d",
   "metadata": {},
   "source": [
    "## Reflections\n",
    "\n",
    "Answer each question based on the visualizations that you've generated.\n",
    "\n",
    "Remember, you must justify your answers with proof."
   ]
  },
  {
   "cell_type": "markdown",
   "id": "4702d01d",
   "metadata": {},
   "source": [
    "### Q1\n",
    "\n",
    "Take a closer look at the numeric features in your dataset. How are these values distributed and what might this tell you about how most transactions behave compared to a few **rare** ones?\n",
    "\n",
    "**Hint**: Consider using visualizations that highlight frequency across value ranges.\n",
    "\n",
    "ANSWER: Looking at the visualizations, it's obvious that very rare fraud transactions are less in amounts. Additionally, looking at the type of transactions, cashouts and transfers are the most common among fraud transactions. "
   ]
  },
  {
   "cell_type": "code",
   "execution_count": 23,
   "id": "fd8a2868",
   "metadata": {},
   "outputs": [
    {
     "data": {
      "image/png": "[encoded data removed]",
      "text/plain": [
       "<Figure size 1000x500 with 1 Axes>"
      ]
     },
     "metadata": {},
     "output_type": "display_data"
    }
   ],
   "source": [
    "plt.figure(figsize=(10, 5))\n",
    "sns.countplot(data=transactions, x='type', hue='isFraud', palette='pastel')\n",
    "plt.title('Transaction Types by Fraud Status')\n",
    "plt.xlabel('Type')\n",
    "plt.ylabel('Count')\n",
    "plt.grid(axis='y')\n",
    "plt.show()"
   ]
  },
  {
   "cell_type": "markdown",
   "id": "1699ba71",
   "metadata": {},
   "source": [
    "### Q2\n",
    "\n",
    "When comparing different numerical features against one another, do any interesting patterns emerge for transactions marked as fraudulent? Are there particular regions or ranges where these transactions seem to concentrate?\n",
    "\n",
    "**Hint**: Try comparing two numeric features at a time while distinguishing between fraud and non-fraud. Use visual cues to spot clusters or anomalies.\n",
    "\n",
    "ANSWER: "
   ]
  },
  {
   "cell_type": "markdown",
   "id": "972d3412",
   "metadata": {},
   "source": [
    "Our exploratory data analysis indicates that fraudulent activity is more common during transactions involving smaller amounts of money. This trend is further supported by our breakdown of fraud cases by transaction type. Additionally, while our scatterplot highlights one exceptionally large money transfer, it does not appear to be linked to any fraudulent behavior."
   ]
  },
  {
   "cell_type": "code",
   "execution_count": 24,
   "id": "8ed3b7ed",
   "metadata": {},
   "outputs": [
    {
     "data": {
      "text/plain": [
       "type      isFraud\n",
       "CASH_IN   0          219955\n",
       "CASH_OUT  0          350703\n",
       "          1             657\n",
       "DEBIT     0            6417\n",
       "PAYMENT   0          338573\n",
       "TRANSFER  0           83055\n",
       "          1             640\n",
       "Name: count, dtype: int64"
      ]
     },
     "execution_count": 24,
     "metadata": {},
     "output_type": "execute_result"
    }
   ],
   "source": [
    "# count the number of fraudulent transactions by type by type. as we saw before, only transfers and cashouts are fraudulent.\n",
    "transactions.groupby('type')['isFraud'].value_counts()"
   ]
  },
  {
   "cell_type": "markdown",
   "id": "561cffc4",
   "metadata": {},
   "source": [
    "### Q3\n",
    "\n",
    "How do types of transaction relate to the typical amounts involved? Are some types of transactions consistently larger or smaller than others?\n",
    "\n",
    "**Hint**: Break the dataset down by transaction type and compare summary statistics."
   ]
  },
  {
   "cell_type": "markdown",
   "id": "07408b0c",
   "metadata": {},
   "source": [
    "Transaction types show clear differences in the typical amounts involved. Transfers consistently involve the highest amounts showing them as having the highest mean and median values 487,883.71.\n",
    "\n",
    "Cash_in and Cash_out transactions follow, with average amounts around 168,928 and 175,584.\n",
    "\n",
    "In contrast, Payment and Debit transactions tend to involve significantly smaller sums, with much lower average and median values, indicating these types are typically used for lower-value activities."
   ]
  },
  {
   "cell_type": "code",
   "execution_count": 27,
   "id": "5ef7b514",
   "metadata": {},
   "outputs": [
    {
     "data": {
      "text/html": [
       "<div>\n",
       "<style scoped>\n",
       "    .dataframe tbody tr th:only-of-type {\n",
       "        vertical-align: middle;\n",
       "    }\n",
       "\n",
       "    .dataframe tbody tr th {\n",
       "        vertical-align: top;\n",
       "    }\n",
       "\n",
       "    .dataframe thead tr th {\n",
       "        text-align: left;\n",
       "    }\n",
       "\n",
       "    .dataframe thead tr:last-of-type th {\n",
       "        text-align: right;\n",
       "    }\n",
       "</style>\n",
       "<table border=\"1\" class=\"dataframe\">\n",
       "  <thead>\n",
       "    <tr>\n",
       "      <th></th>\n",
       "      <th colspan=\"5\" halign=\"left\">amount</th>\n",
       "    </tr>\n",
       "    <tr>\n",
       "      <th></th>\n",
       "      <th>mean</th>\n",
       "      <th>median</th>\n",
       "      <th>std</th>\n",
       "      <th>min</th>\n",
       "      <th>max</th>\n",
       "    </tr>\n",
       "    <tr>\n",
       "      <th>type</th>\n",
       "      <th></th>\n",
       "      <th></th>\n",
       "      <th></th>\n",
       "      <th></th>\n",
       "      <th></th>\n",
       "    </tr>\n",
       "  </thead>\n",
       "  <tbody>\n",
       "    <tr>\n",
       "      <th>CASH_IN</th>\n",
       "      <td>168928.914668</td>\n",
       "      <td>142942.990</td>\n",
       "      <td>1.267864e+05</td>\n",
       "      <td>0.43</td>\n",
       "      <td>1609288.13</td>\n",
       "    </tr>\n",
       "    <tr>\n",
       "      <th>CASH_OUT</th>\n",
       "      <td>175584.659320</td>\n",
       "      <td>146209.915</td>\n",
       "      <td>1.703743e+05</td>\n",
       "      <td>0.00</td>\n",
       "      <td>10000000.00</td>\n",
       "    </tr>\n",
       "    <tr>\n",
       "      <th>DEBIT</th>\n",
       "      <td>5445.890813</td>\n",
       "      <td>3099.530</td>\n",
       "      <td>1.302416e+04</td>\n",
       "      <td>5.24</td>\n",
       "      <td>389762.68</td>\n",
       "    </tr>\n",
       "    <tr>\n",
       "      <th>PAYMENT</th>\n",
       "      <td>13055.592085</td>\n",
       "      <td>9481.670</td>\n",
       "      <td>1.256291e+04</td>\n",
       "      <td>0.03</td>\n",
       "      <td>230549.18</td>\n",
       "    </tr>\n",
       "    <tr>\n",
       "      <th>TRANSFER</th>\n",
       "      <td>911827.155179</td>\n",
       "      <td>487883.710</td>\n",
       "      <td>1.896175e+06</td>\n",
       "      <td>2.60</td>\n",
       "      <td>92445516.64</td>\n",
       "    </tr>\n",
       "  </tbody>\n",
       "</table>\n",
       "</div>"
      ],
      "text/plain": [
       "                 amount                                             \n",
       "                   mean      median           std   min          max\n",
       "type                                                                \n",
       "CASH_IN   168928.914668  142942.990  1.267864e+05  0.43   1609288.13\n",
       "CASH_OUT  175584.659320  146209.915  1.703743e+05  0.00  10000000.00\n",
       "DEBIT       5445.890813    3099.530  1.302416e+04  5.24    389762.68\n",
       "PAYMENT    13055.592085    9481.670  1.256291e+04  0.03    230549.18\n",
       "TRANSFER  911827.155179  487883.710  1.896175e+06  2.60  92445516.64"
      ]
     },
     "execution_count": 27,
     "metadata": {},
     "output_type": "execute_result"
    }
   ],
   "source": [
    "sum_statistics = transactions.groupby('type').agg({\n",
    "    'amount': ['mean', 'median', 'std', 'min', 'max']})\n",
    "sum_statistics"
   ]
  },
  {
   "cell_type": "markdown",
   "id": "211b2b6a",
   "metadata": {},
   "source": [
    "### Q4\n",
    "\n",
    "Do transaction amounts vary when you compare fraudulent and non-fraudulent transactions across different transaction types? What patterns emerge when you look at both fraud status and transaction type together?\n",
    "\n",
    "**Hint**:  Try summarizing average transaction amounts by both fraud label and transaction type to compare across categories.\n",
    "\n",
    "Answer here"
   ]
  },
  {
   "cell_type": "markdown",
   "id": "0939487d",
   "metadata": {},
   "source": [
    "Transfer and Cash-Out are the only transaction types linked to fraud, and they involve the largest amounts:\n",
    "- Fraudulent Transfers average 1.38 million\n",
    "- Fraudulent Cash-Outs average 1.33 million\n",
    "\n",
    "Non-fraudulent versions of these types involve much smaller amounts:\n",
    "- Non-fraud Transfers average 908k\n",
    "- Non-fraud Cash-Outs average 173k\n",
    "\n",
    "Other types—Payment, Debit, and Cash-In—show no fraud and have much lower average amounts:\n",
    "- Debit: ~5.4k\n",
    "- Payment: ~13k\n",
    "- Cash-In: ~169k"
   ]
  },
  {
   "cell_type": "code",
   "execution_count": 31,
   "id": "4a20bf1d",
   "metadata": {},
   "outputs": [
    {
     "data": {
      "text/html": [
       "<div>\n",
       "<style scoped>\n",
       "    .dataframe tbody tr th:only-of-type {\n",
       "        vertical-align: middle;\n",
       "    }\n",
       "\n",
       "    .dataframe tbody tr th {\n",
       "        vertical-align: top;\n",
       "    }\n",
       "\n",
       "    .dataframe thead th {\n",
       "        text-align: right;\n",
       "    }\n",
       "</style>\n",
       "<table border=\"1\" class=\"dataframe\">\n",
       "  <thead>\n",
       "    <tr style=\"text-align: right;\">\n",
       "      <th></th>\n",
       "      <th>type</th>\n",
       "      <th>isFraud</th>\n",
       "      <th>count</th>\n",
       "      <th>mean</th>\n",
       "      <th>median</th>\n",
       "      <th>std</th>\n",
       "    </tr>\n",
       "  </thead>\n",
       "  <tbody>\n",
       "    <tr>\n",
       "      <th>0</th>\n",
       "      <td>CASH_IN</td>\n",
       "      <td>0</td>\n",
       "      <td>219955</td>\n",
       "      <td>1.689289e+05</td>\n",
       "      <td>142942.99</td>\n",
       "      <td>1.267864e+05</td>\n",
       "    </tr>\n",
       "    <tr>\n",
       "      <th>1</th>\n",
       "      <td>CASH_OUT</td>\n",
       "      <td>0</td>\n",
       "      <td>350703</td>\n",
       "      <td>1.734277e+05</td>\n",
       "      <td>146085.00</td>\n",
       "      <td>1.310352e+05</td>\n",
       "    </tr>\n",
       "    <tr>\n",
       "      <th>2</th>\n",
       "      <td>CASH_OUT</td>\n",
       "      <td>1</td>\n",
       "      <td>657</td>\n",
       "      <td>1.326971e+06</td>\n",
       "      <td>374178.28</td>\n",
       "      <td>2.244505e+06</td>\n",
       "    </tr>\n",
       "    <tr>\n",
       "      <th>3</th>\n",
       "      <td>DEBIT</td>\n",
       "      <td>0</td>\n",
       "      <td>6417</td>\n",
       "      <td>5.445891e+03</td>\n",
       "      <td>3099.53</td>\n",
       "      <td>1.302416e+04</td>\n",
       "    </tr>\n",
       "    <tr>\n",
       "      <th>4</th>\n",
       "      <td>PAYMENT</td>\n",
       "      <td>0</td>\n",
       "      <td>338573</td>\n",
       "      <td>1.305559e+04</td>\n",
       "      <td>9481.67</td>\n",
       "      <td>1.256291e+04</td>\n",
       "    </tr>\n",
       "    <tr>\n",
       "      <th>5</th>\n",
       "      <td>TRANSFER</td>\n",
       "      <td>0</td>\n",
       "      <td>83055</td>\n",
       "      <td>9.081874e+05</td>\n",
       "      <td>488022.88</td>\n",
       "      <td>1.892640e+06</td>\n",
       "    </tr>\n",
       "    <tr>\n",
       "      <th>6</th>\n",
       "      <td>TRANSFER</td>\n",
       "      <td>1</td>\n",
       "      <td>640</td>\n",
       "      <td>1.384176e+06</td>\n",
       "      <td>454774.80</td>\n",
       "      <td>2.262100e+06</td>\n",
       "    </tr>\n",
       "  </tbody>\n",
       "</table>\n",
       "</div>"
      ],
      "text/plain": [
       "       type  isFraud   count          mean     median           std\n",
       "0   CASH_IN        0  219955  1.689289e+05  142942.99  1.267864e+05\n",
       "1  CASH_OUT        0  350703  1.734277e+05  146085.00  1.310352e+05\n",
       "2  CASH_OUT        1     657  1.326971e+06  374178.28  2.244505e+06\n",
       "3     DEBIT        0    6417  5.445891e+03    3099.53  1.302416e+04\n",
       "4   PAYMENT        0  338573  1.305559e+04    9481.67  1.256291e+04\n",
       "5  TRANSFER        0   83055  9.081874e+05  488022.88  1.892640e+06\n",
       "6  TRANSFER        1     640  1.384176e+06  454774.80  2.262100e+06"
      ]
     },
     "execution_count": 31,
     "metadata": {},
     "output_type": "execute_result"
    }
   ],
   "source": [
    "sum_transactions = transactions.groupby(['type', 'isFraud'])['amount'].agg(['count', 'mean', 'median', 'std']).reset_index()\n",
    "sum_transactions"
   ]
  },
  {
   "cell_type": "markdown",
   "id": "c5b31047",
   "metadata": {},
   "source": [
    "## Q5\n",
    "\n",
    "Consider how well the system's built-in fraud flag (`isFlaggedFraud`) aligns with actual fraudulent activity. Are there mismatches? What does this tell you about the system's current performance?\n",
    "\n",
    "**Hint**: Try organizing the data in a way that shows how often flagged transactions are truly fraudulent and how often fraud goes unflagged.\n",
    "\n",
    "Answer here"
   ]
  },
  {
   "cell_type": "markdown",
   "id": "380a3936",
   "metadata": {},
   "source": [
    "The fraud flag system is mostly good at not flagging normal transactions — almost all legitimate transactions are left alone.\n",
    "But it misses almost all real frauds — only 1 fraudulent transaction was flagged, while 1,296 frauds were not caught.\n",
    "So, the system is not very good at finding fraud right now. It needs improvement to catch more fraudulent activity."
   ]
  },
  {
   "cell_type": "code",
   "execution_count": 32,
   "id": "611d7ef0",
   "metadata": {},
   "outputs": [
    {
     "data": {
      "text/html": [
       "<div>\n",
       "<style scoped>\n",
       "    .dataframe tbody tr th:only-of-type {\n",
       "        vertical-align: middle;\n",
       "    }\n",
       "\n",
       "    .dataframe tbody tr th {\n",
       "        vertical-align: top;\n",
       "    }\n",
       "\n",
       "    .dataframe thead th {\n",
       "        text-align: right;\n",
       "    }\n",
       "</style>\n",
       "<table border=\"1\" class=\"dataframe\">\n",
       "  <thead>\n",
       "    <tr style=\"text-align: right;\">\n",
       "      <th></th>\n",
       "      <th>isFraud</th>\n",
       "      <th>isFlaggedFraud</th>\n",
       "      <th>Count</th>\n",
       "    </tr>\n",
       "  </thead>\n",
       "  <tbody>\n",
       "    <tr>\n",
       "      <th>0</th>\n",
       "      <td>0</td>\n",
       "      <td>0</td>\n",
       "      <td>998703</td>\n",
       "    </tr>\n",
       "    <tr>\n",
       "      <th>1</th>\n",
       "      <td>1</td>\n",
       "      <td>0</td>\n",
       "      <td>1296</td>\n",
       "    </tr>\n",
       "    <tr>\n",
       "      <th>2</th>\n",
       "      <td>1</td>\n",
       "      <td>1</td>\n",
       "      <td>1</td>\n",
       "    </tr>\n",
       "  </tbody>\n",
       "</table>\n",
       "</div>"
      ],
      "text/plain": [
       "   isFraud  isFlaggedFraud   Count\n",
       "0        0               0  998703\n",
       "1        1               0    1296\n",
       "2        1               1       1"
      ]
     },
     "execution_count": 32,
     "metadata": {},
     "output_type": "execute_result"
    }
   ],
   "source": [
    "# Group by actual fraud and system flag\n",
    "flagged_transactions = transactions.groupby(['isFraud', 'isFlaggedFraud']).size().reset_index(name='Count')\n",
    "flagged_transactions"
   ]
  }
 ],
 "metadata": {
  "kernelspec": {
   "display_name": "ds",
   "language": "python",
   "name": "python3"
  },
  "language_info": {
   "codemirror_mode": {
    "name": "ipython",
    "version": 3
   },
   "file_extension": ".py",
   "mimetype": "text/x-python",
   "name": "python",
   "nbconvert_exporter": "python",
   "pygments_lexer": "ipython3",
   "version": "3.12.9"
  }
 },
 "nbformat": 4,
 "nbformat_minor": 5
}
